{
 "cells": [
  {
   "cell_type": "markdown",
   "id": "794c976a",
   "metadata": {},
   "source": [
    "## Accuracy Calculations of our predictions against the real labels"
   ]
  },
  {
   "cell_type": "code",
   "execution_count": 5,
   "id": "cebdd70c",
   "metadata": {},
   "outputs": [
    {
     "name": "stdout",
     "output_type": "stream",
     "text": [
      "=== Accuracy Comparison ===\n",
      "\n",
      "Logistic Regression (predictionsLR.csv): Accuracy = 0.9864\n",
      "Random Forest (predictionsRF.csv): Accuracy = 0.9833\n",
      "RF + Transformers (predictionsLR_Transformers_with_original_data.csv): Accuracy = 0.8773\n"
     ]
    }
   ],
   "source": [
    "import pandas as pd\n",
    "from sklearn.metrics import accuracy_score\n",
    "\n",
    "# === File paths ===\n",
    "pred_files = {\n",
    "    \"Logistic Regression\": \"predictionsLR.csv\",\n",
    "    \"Random Forest\": \"predictionsRF.csv\",\n",
    "    \"RF + Transformers\": \"predictionsLR_Transformers_with_original_data.csv\"\n",
    "}\n",
    "\n",
    "label_file = \"test_labels.csv\"\n",
    "label_column = \"label\"\n",
    "pred_column = \"predictions\"\n",
    "\n",
    "# === Load true labels ===\n",
    "true_df = pd.read_csv(label_file)\n",
    "y_true = true_df[label_column].astype(str)\n",
    "\n",
    "print(\"=== Accuracy Comparison ===\\n\")\n",
    "\n",
    "for model_name, file_path in pred_files.items():\n",
    "    pred_df = pd.read_csv(file_path)\n",
    "\n",
    "    # Ensure the prediction column exists\n",
    "    if pred_column not in pred_df.columns:\n",
    "        print(f\"Column '{pred_column}' not found in {file_path}\")\n",
    "        print(f\"Available columns: {pred_df.columns.tolist()}\")\n",
    "        continue\n",
    "\n",
    "    y_pred = pred_df[pred_column].astype(str)\n",
    "\n",
    "    # Sanity check: length match\n",
    "    if len(y_pred) != len(y_true):\n",
    "        print(f\"Mismatch in number of rows for {model_name}: predictions = {len(y_pred)}, labels = {len(y_true)}\")\n",
    "        continue\n",
    "\n",
    "    accuracy = accuracy_score(y_true, y_pred)\n",
    "    print(f\"{model_name} ({file_path}): Accuracy = {accuracy:.4f}\")\n"
   ]
  }
 ],
 "metadata": {
  "kernelspec": {
   "display_name": "base",
   "language": "python",
   "name": "python3"
  },
  "language_info": {
   "codemirror_mode": {
    "name": "ipython",
    "version": 3
   },
   "file_extension": ".py",
   "mimetype": "text/x-python",
   "name": "python",
   "nbconvert_exporter": "python",
   "pygments_lexer": "ipython3",
   "version": "3.13.5"
  }
 },
 "nbformat": 4,
 "nbformat_minor": 5
}
